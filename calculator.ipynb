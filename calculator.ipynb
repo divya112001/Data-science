{
 "cells": [
  {
   "cell_type": "code",
   "execution_count": 4,
   "id": "08faffa4",
   "metadata": {},
   "outputs": [
    {
     "name": "stdout",
     "output_type": "stream",
     "text": [
      "Enter the 1st number :62\n",
      "Enter the 2nd number :2\n",
      "select the operations\n",
      "1.Add\n",
      "2.Subtract\n",
      "3.Multiply\n",
      "4.Division\n",
      "Enter the choice :4\n",
      "1.Division :31.00\n"
     ]
    }
   ],
   "source": [
    "num1=float(input(\"Enter the 1st number :\"))\n",
    "num2=float(input(\"Enter the 2nd number :\"))\n",
    "print(\"select the operations\")\n",
    "print(\"1.Add\")\n",
    "print(\"2.Subtract\")\n",
    "print(\"3.Multiply\")\n",
    "print(\"4.Division\")\n",
    "choice=int(input(\"Enter the choice :\"))\n",
    "if(choice==1):\n",
    "    print(\"1.Addition :%.2f\"%(num1+num2))\n",
    "elif(choice==2):\n",
    "    print(\"1.Subtraction :%.2f\"%(num1-num2))\n",
    "elif(choice==3):\n",
    "    print(\"1.Multiplication :%.2f\"%(num1*num2))\n",
    "elif(choice==4):\n",
    "    if (num2!=0):\n",
    "        print(\"1.Division :%.2f\"%(num1/num2))\n",
    "    else:\n",
    "        print(\"not divisible\")\n",
    "else:\n",
    "    print(\"invalid choice\")\n",
    "    "
   ]
  },
  {
   "cell_type": "code",
   "execution_count": null,
   "id": "0c8c89ea",
   "metadata": {},
   "outputs": [],
   "source": []
  },
  {
   "cell_type": "code",
   "execution_count": null,
   "id": "f67e5ecd",
   "metadata": {},
   "outputs": [],
   "source": []
  }
 ],
 "metadata": {
  "kernelspec": {
   "display_name": "Python 3 (ipykernel)",
   "language": "python",
   "name": "python3"
  },
  "language_info": {
   "codemirror_mode": {
    "name": "ipython",
    "version": 3
   },
   "file_extension": ".py",
   "mimetype": "text/x-python",
   "name": "python",
   "nbconvert_exporter": "python",
   "pygments_lexer": "ipython3",
   "version": "3.10.12"
  }
 },
 "nbformat": 4,
 "nbformat_minor": 5
}
